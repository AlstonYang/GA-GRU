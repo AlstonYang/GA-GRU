{
 "cells": [
  {
   "cell_type": "code",
   "execution_count": 1,
   "metadata": {},
   "outputs": [
    {
     "name": "stdout",
     "output_type": "stream",
     "text": [
      "INFO:tensorflow:Enabling eager execution\n",
      "INFO:tensorflow:Enabling v2 tensorshape\n",
      "INFO:tensorflow:Enabling resource variables\n",
      "INFO:tensorflow:Enabling tensor equality\n",
      "INFO:tensorflow:Enabling control flow v2\n"
     ]
    }
   ],
   "source": [
    "\"\"\"\n",
    "Utility used by the Network class to actually train.\n",
    "\n",
    "Based on:\n",
    "    https://github.com/fchollet/keras/blob/master/examples/mnist_mlp.py\n",
    "\n",
    "\"\"\"\n",
    "import tensorflow as tf\n",
    "import numpy as np\n",
    "import pandas as pd\n",
    "from tensorflow import keras\n",
    "from keras.models import Sequential\n",
    "from keras.layers import Dense, Dropout, GRU\n",
    "from keras.utils.np_utils import to_categorical\n",
    "from keras.callbacks import EarlyStopping\n",
    "from tensorflow.keras.metrics import Metric"
   ]
  },
  {
   "cell_type": "code",
   "execution_count": 2,
   "metadata": {},
   "outputs": [],
   "source": [
    "def predict(x, y, trained_model):\n",
    "    \"\"\"Train the model, return test loss.\n",
    "\n",
    "    Args:\n",
    "        network (dict): the parameters of the network\n",
    "        dataset (str): Dataset to use for training/evaluating\n",
    "\n",
    "    \"\"\"\n",
    "    \n",
    "    x_scaled = sc.fit_transform(x)[:,np.newaxis,:]\n",
    "    sc.fit(y)\n",
    "\n",
    "    model = trained_model\n",
    "    y_pred = sc.inverse_transform(np.squeeze(model.predict(x_scaled),1))\n",
    "#     score = tf.reduce_sum(tf.cast(tf.less_equal(tf.abs(y_test- y_pred), 2000), dtype = tf.float32)).numpy()/y_test.shape[0]\n",
    "\n",
    "    return y_pred  # 1 is accuracy. 0 is loss."
   ]
  }
 ],
 "metadata": {
  "kernelspec": {
   "display_name": "Python 3",
   "language": "python",
   "name": "python3"
  },
  "language_info": {
   "codemirror_mode": {
    "name": "ipython",
    "version": 3
   },
   "file_extension": ".py",
   "mimetype": "text/x-python",
   "name": "python",
   "nbconvert_exporter": "python",
   "pygments_lexer": "ipython3",
   "version": "3.6.9"
  }
 },
 "nbformat": 4,
 "nbformat_minor": 4
}
