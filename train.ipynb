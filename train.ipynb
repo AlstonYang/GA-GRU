{
 "cells": [
  {
   "cell_type": "code",
   "execution_count": 1,
   "metadata": {},
   "outputs": [
    {
     "name": "stdout",
     "output_type": "stream",
     "text": [
      "INFO:tensorflow:Enabling eager execution\n",
      "INFO:tensorflow:Enabling v2 tensorshape\n",
      "INFO:tensorflow:Enabling resource variables\n",
      "INFO:tensorflow:Enabling tensor equality\n",
      "INFO:tensorflow:Enabling control flow v2\n"
     ]
    }
   ],
   "source": [
    "\"\"\"\n",
    "Utility used by the Network class to actually train.\n",
    "\n",
    "Based on:\n",
    "    https://github.com/fchollet/keras/blob/master/examples/mnist_mlp.py\n",
    "\n",
    "\"\"\"\n",
    "import tensorflow as tf\n",
    "import numpy as np\n",
    "import pandas as pd\n",
    "from tensorflow import keras\n",
    "from keras.models import Sequential\n",
    "from keras.layers import Dense, Dropout, GRU\n",
    "from keras.utils.np_utils import to_categorical\n",
    "from keras.callbacks import EarlyStopping\n",
    "from tensorflow.keras.metrics import Metric"
   ]
  },
  {
   "cell_type": "code",
   "execution_count": 2,
   "metadata": {},
   "outputs": [],
   "source": [
    "gpu_options = tf.compat.v1.GPUOptions(per_process_gpu_memory_fraction=0.3)\n",
    "sess = tf.compat.v1.Session(config=tf.compat.v1.ConfigProto(gpu_options=gpu_options))\n",
    "tf.compat.v1.keras.backend.set_session(sess)"
   ]
  },
  {
   "cell_type": "code",
   "execution_count": 3,
   "metadata": {},
   "outputs": [],
   "source": [
    "np.set_printoptions(suppress=True)"
   ]
  },
  {
   "cell_type": "code",
   "execution_count": 4,
   "metadata": {},
   "outputs": [],
   "source": [
    "from sklearn.preprocessing import MinMaxScaler\n",
    "sc = MinMaxScaler(feature_range = (0, 1))"
   ]
  },
  {
   "cell_type": "code",
   "execution_count": 5,
   "metadata": {},
   "outputs": [],
   "source": [
    "def read(path):\n",
    "    return pd.read_csv(path)"
   ]
  },
  {
   "cell_type": "code",
   "execution_count": 6,
   "metadata": {},
   "outputs": [],
   "source": [
    "def buildTrain(train, pastWeek=4, futureWeek=1, defaultWeek=1):\n",
    "    X_train, Y_train = [], []\n",
    "    for i in range(train.shape[0]-futureWeek-pastWeek):\n",
    "        \n",
    "        X = np.array(train.iloc[i:i+defaultWeek,-2:])\n",
    "        X = np.append(X,train.iloc[i:i+pastWeek,:-2])\n",
    "        \n",
    "        X_train.append(X.reshape(X.size))\n",
    "        Y_train.append(np.array(train.iloc[i+pastWeek:i+pastWeek+futureWeek][\"CCSP\"]))\n",
    "    return (np.array(X_train), np.array(Y_train))"
   ]
  },
  {
   "cell_type": "code",
   "execution_count": 7,
   "metadata": {},
   "outputs": [],
   "source": [
    "def get_data(timeLag):\n",
    "    \n",
    "    ## Read weekly copper price data\n",
    "    path = \"WeeklyFinalData.csv\"\n",
    "    data = read(path)\n",
    "    \n",
    "    date = data[\"Date\"]\n",
    "    data.drop(\"Date\", axis=1, inplace=True)\n",
    "    \n",
    "    ## Add time lag (pastWeek=4, futureWeek=1)\n",
    "    x_data, y_data = buildTrain(data, timeLag)\n",
    "    \n",
    "    ## Data split\n",
    "    x_train = x_data[0:int(x_data.shape[0]*0.8)]\n",
    "    x_test = x_data[int(x_data.shape[0]*0.8):]\n",
    "    \n",
    "    y_train = y_data[0:int(y_data.shape[0]*0.8)]\n",
    "    y_test = y_data[int(y_data.shape[0]*0.8):]\n",
    "    \n",
    "    ## Other information\n",
    "    nb_output = 1\n",
    "    \n",
    "    return (nb_output, x_train, x_test, y_train, y_test)"
   ]
  },
  {
   "cell_type": "code",
   "execution_count": 8,
   "metadata": {},
   "outputs": [],
   "source": [
    "def compile_model(nb_neurons, nb_layers, optimizer, nb_output, input_shape):\n",
    "    \"\"\"Compile a sequential model.\n",
    "\n",
    "    Args:\n",
    "        network (dict): the parameters of the network\n",
    "\n",
    "    Returns:\n",
    "        a compiled network.\n",
    "\n",
    "    \"\"\"\n",
    "    # Get our network parameters.\n",
    "    keras.backend.clear_session()\n",
    "    model = Sequential()\n",
    "\n",
    "    # Add each layer.\n",
    "    for i in range(nb_layers):\n",
    "\n",
    "        # Need input shape for first layer.\n",
    "        if i == 0:\n",
    "            model.add(GRU(units = nb_neurons, batch_input_shape=input_shape, return_sequences=True))\n",
    "        else:\n",
    "            model.add(GRU(units = nb_neurons, return_sequences=True))\n",
    "\n",
    "#         model.add(Dropout(0.2))  # hard-coded dropout\n",
    "\n",
    "    # Output layer.\n",
    "    model.add(Dense(units = nb_output))\n",
    "\n",
    "    model.compile(loss='mean_squared_error', optimizer=optimizer)\n",
    "\n",
    "    return model"
   ]
  },
  {
   "cell_type": "code",
   "execution_count": 36,
   "metadata": {},
   "outputs": [],
   "source": [
    "def train_and_score(Network):\n",
    "    \"\"\"Train the model, return test loss.\n",
    "\n",
    "    Args:\n",
    "        network (dict): the parameters of the network\n",
    "        dataset (str): Dataset to use for training/evaluating\n",
    "\n",
    "    \"\"\"\n",
    "#     if dataset == 'cifar10':\n",
    "#         nb_classes, batch_size, input_shape, x_train, \\\n",
    "#             x_test, y_train, y_test = get_cifar10()\n",
    "#     elif dataset == 'mnist':\n",
    "#         nb_classes, batch_size, input_shape, x_train, \\\n",
    "#             x_test, y_train, y_test = get_mnist()\n",
    "    \n",
    "    batch_size = Network.network['batch_size']\n",
    "    epoch = Network.network['epoch']\n",
    "    window_size = Network.network['window_size']\n",
    "    \n",
    "    ## For model compile\n",
    "    nb_neurons = Network.network['nb_neurons']\n",
    "    nb_layers = Network.network['nb_layers']\n",
    "    optimizer = Network.network['optimizer']\n",
    "\n",
    "    nb_output, x_train, x_test, y_train, y_test = get_data(window_size)\n",
    "    \n",
    "    x_train_scaled = sc.fit_transform(x_train)[:,np.newaxis,:]\n",
    "    x_test_scaled = sc.transform(x_test)[:,np.newaxis,:]\n",
    "    y_train_scaled = sc.fit_transform(y_train)[:,np.newaxis,:]\n",
    "    \n",
    "    \n",
    "    nb_input_factor = x_train_scaled.shape[2]\n",
    "    input_shape = (None,1, nb_input_factor)\n",
    "    nb_data = x_train_scaled.shape[0]\n",
    "    \n",
    "    model = compile_model(nb_neurons, nb_layers, optimizer, nb_output, input_shape)\n",
    "    \n",
    "\n",
    "    for e in range(epoch):\n",
    "        minimum_loss = np.inf\n",
    "        current_times = 0\n",
    "        \n",
    "        if (current_times > 5):\n",
    "            \n",
    "            model.load_weights(\"model_weight.h5\")\n",
    "            Network.set_model(model)\n",
    "           # Network.set_weights(model.get_weights())\n",
    "            break\n",
    "            \n",
    "        else:\n",
    "            \n",
    "            for i in range(0, nb_data, batch_size):\n",
    "\n",
    "                end = i + batch_size\n",
    "\n",
    "                if end < nb_data:\n",
    "                    x = x_train_scaled[i:end]\n",
    "                    y = y_train_scaled[i:end]\n",
    "#                     print(x.shape)\n",
    "#                     print(y.shape)\n",
    "                    model.train_on_batch(x, y)\n",
    "\n",
    "                else:\n",
    "                    x = x_train_scaled[i:nb_data]\n",
    "                    y = y_train_scaled[i:nb_data]\n",
    "                    print(x.shape, y.shape)\n",
    "                    model.train_on_batch(x, y)\n",
    "\n",
    "            y_pred = sc.inverse_transform(np.squeeze(model.predict(x_train_scaled),1))\n",
    "            loss = tf.reduce_mean(tf.square(y_train - y_pred)).numpy()\n",
    "#             accuracy = tf.reduce_sum(tf.cast(tf.less_equal(tf.abs(y_train- y_pred), 2000), dtype = tf.float32)).numpy()/y_train.shape[0]\n",
    "            print(loss)\n",
    "# #             MSE_list.append(loss)\n",
    "# #             accuracy_list.append(accuracy)\n",
    "            \n",
    "            if(loss <= minimum_loss):\n",
    "                minimum_loss = loss\n",
    "                current_times=0\n",
    "                model.save_weights(\"model_weight.h5\")\n",
    "                Network.set_model(model)\n",
    "                #Network.set_weights(model.get_weights())\n",
    "            \n",
    "            else:\n",
    "                current_times += 1\n",
    "                if (e>=epoch-1):\n",
    "                    Network.set_model(model)\n",
    "                    #Network.set_weights(model.get_weights())\n",
    "                    \n",
    "    \n",
    "    y_pred = sc.inverse_transform(np.squeeze(model.predict(x_test_scaled),1))\n",
    "    score = tf.reduce_sum(tf.cast(tf.less_equal(tf.abs(y_test- y_pred), 2000), dtype = tf.float32)).numpy()/y_test.shape[0]\n",
    "\n",
    "    return score  # 1 is accuracy. 0 is loss."
   ]
  },
  {
   "cell_type": "code",
   "execution_count": 37,
   "metadata": {},
   "outputs": [],
   "source": [
    "\"\"\"Class that represents the network to be evolved.\"\"\"\n",
    "import random\n",
    "import logging"
   ]
  },
  {
   "cell_type": "code",
   "execution_count": 38,
   "metadata": {},
   "outputs": [],
   "source": [
    "class Network():\n",
    "    \"\"\"Represent a network and let us operate on it.\n",
    "\n",
    "    Currently only works for an MLP.\n",
    "    \"\"\"\n",
    "\n",
    "    def __init__(self, nn_param_choices=None):\n",
    "        \"\"\"Initialize our network.\n",
    "\n",
    "        Args:\n",
    "            nn_param_choices (dict): Parameters for the network, includes:\n",
    "                'window_size':[i for i in range(1,50)]\n",
    "                'nb_neurons': [i for i in range(3, 41, 1)],\n",
    "                'nb_layers': [i for i in range(1,11)],\n",
    "                'batch_size':[i for i in range(1,21)],\n",
    "                'epoch':[i for i in range(10,501)],\n",
    "                'optimizer': ['rmsprop', 'adam', 'sgd', 'adagrad',\n",
    "                                  'adadelta', 'adamax', 'nadam','ftrl'],\n",
    "        \"\"\"\n",
    "        self.accuracy = 0.\n",
    "        self.nn_param_choices = nn_param_choices\n",
    "        self.network = {}  # (dic): represents MLP network parameters\n",
    "\n",
    "    def create_random(self):\n",
    "        \"\"\"Create a random network.\"\"\"\n",
    "        for key in self.nn_param_choices:\n",
    "            self.network[key] = random.choice(self.nn_param_choices[key])\n",
    "\n",
    "    def create_set(self, network):\n",
    "        \"\"\"Set network properties.\n",
    "\n",
    "        Args:\n",
    "            network (dict): The network parameters\n",
    "\n",
    "        \"\"\"\n",
    "        self.network = network\n",
    "\n",
    "    def train(self):\n",
    "        \"\"\"Train the network and record the accuracy.\n",
    "\n",
    "        Args:\n",
    "            dataset (str): Name of dataset to use.\n",
    "\n",
    "        \"\"\"\n",
    "        if self.accuracy == 0.:\n",
    "            self.accuracy = train_and_score(self.network)\n",
    "\n",
    "    def print_network(self):\n",
    "        \"\"\"Print out a network.\"\"\"\n",
    "        logging.info(self.network)\n",
    "        logging.info(\"Network accuracy: %.2f%%\" % (self.accuracy * 100))"
   ]
  },
  {
   "cell_type": "code",
   "execution_count": 39,
   "metadata": {},
   "outputs": [],
   "source": [
    "nn_param_choices = {\n",
    "        'window_size':[50],\n",
    "        'nb_neurons': [i for i in range(3, 41, 1)],\n",
    "        'nb_layers': [i for i in range(1,11)],\n",
    "        'batch_size':[i for i in range(1,5)],\n",
    "        'epoch':[5],\n",
    "#         'batch_size':[i for i in range(1,21)],\n",
    "#         'epoch':[i for i in range(10,501)],\n",
    "        'optimizer': ['rmsprop', 'adam', 'sgd', 'adagrad',\n",
    "                      'adadelta', 'adamax', 'nadam','ftrl']\n",
    "    }\n",
    "\n",
    "network = Network(nn_param_choices)\n",
    "network.create_random()"
   ]
  },
  {
   "cell_type": "code",
   "execution_count": 40,
   "metadata": {},
   "outputs": [
    {
     "data": {
      "text/plain": [
       "{'window_size': 50,\n",
       " 'nb_neurons': 20,\n",
       " 'nb_layers': 2,\n",
       " 'batch_size': 4,\n",
       " 'epoch': 5,\n",
       " 'optimizer': 'adagrad'}"
      ]
     },
     "execution_count": 40,
     "metadata": {},
     "output_type": "execute_result"
    }
   ],
   "source": [
    "network.network"
   ]
  },
  {
   "cell_type": "code",
   "execution_count": 41,
   "metadata": {},
   "outputs": [
    {
     "name": "stdout",
     "output_type": "stream",
     "text": [
      "(3, 1, 652) (3, 1, 1)\n",
      "30258427.67298424\n",
      "(3, 1, 652) (3, 1, 1)\n",
      "21233318.704906713\n",
      "(3, 1, 652) (3, 1, 1)\n",
      "18557576.952866413\n",
      "(3, 1, 652) (3, 1, 1)\n",
      "16608236.63805159\n",
      "(3, 1, 652) (3, 1, 1)\n",
      "14952362.133915253\n"
     ]
    }
   ],
   "source": [
    "network.train()"
   ]
  },
  {
   "cell_type": "code",
   "execution_count": 35,
   "metadata": {},
   "outputs": [],
   "source": [
    "nb_output, x_train, x_test, y_train, y_test = get_data(50)"
   ]
  },
  {
   "cell_type": "code",
   "execution_count": 28,
   "metadata": {},
   "outputs": [
    {
     "data": {
      "text/plain": [
       "(343, 652)"
      ]
     },
     "execution_count": 28,
     "metadata": {},
     "output_type": "execute_result"
    }
   ],
   "source": [
    "x_train.shape"
   ]
  },
  {
   "cell_type": "code",
   "execution_count": 17,
   "metadata": {},
   "outputs": [
    {
     "data": {
      "text/plain": [
       "(349, 1, 548)"
      ]
     },
     "execution_count": 17,
     "metadata": {},
     "output_type": "execute_result"
    }
   ],
   "source": [
    "x_train[:,np.newaxis,:].shape"
   ]
  },
  {
   "cell_type": "code",
   "execution_count": 18,
   "metadata": {},
   "outputs": [
    {
     "data": {
      "text/plain": [
       "(349, 548)"
      ]
     },
     "execution_count": 18,
     "metadata": {},
     "output_type": "execute_result"
    }
   ],
   "source": [
    "x_train.shape"
   ]
  },
  {
   "cell_type": "code",
   "execution_count": 19,
   "metadata": {},
   "outputs": [],
   "source": [
    "# a = np.array([[1,2,3],[5,6,7]])[np.newaxis,:]\n",
    "# a.shape"
   ]
  },
  {
   "cell_type": "code",
   "execution_count": 20,
   "metadata": {},
   "outputs": [],
   "source": [
    "# a[:,1:2].shape"
   ]
  }
 ],
 "metadata": {
  "kernelspec": {
   "display_name": "Python 3",
   "language": "python",
   "name": "python3"
  },
  "language_info": {
   "codemirror_mode": {
    "name": "ipython",
    "version": 3
   },
   "file_extension": ".py",
   "mimetype": "text/x-python",
   "name": "python",
   "nbconvert_exporter": "python",
   "pygments_lexer": "ipython3",
   "version": "3.6.9"
  }
 },
 "nbformat": 4,
 "nbformat_minor": 4
}
